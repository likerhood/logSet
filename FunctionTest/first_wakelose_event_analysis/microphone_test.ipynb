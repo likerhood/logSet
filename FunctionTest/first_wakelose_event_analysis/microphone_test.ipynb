{
 "cells": [
  {
   "cell_type": "markdown",
   "metadata": {},
   "source": [
    "### mic被占用测试"
   ]
  },
  {
   "cell_type": "code",
   "execution_count": 6,
   "metadata": {},
   "outputs": [
    {
     "name": "stdout",
     "output_type": "stream",
     "text": [
      "麦克风问题：\n",
      "07-15 14:24:43.872  1000  4387  4387 D AudioRecord: start(98): 0xb400007443bcba60, sync event 0 trigger session 0 packageName: com.mediatek.voicecommand\n",
      "\n",
      "07-15 14:24:43.872  1000  4387  4387 D AudioRecord: start(98): 0xb400007443bcba60, sync event 0 trigger session 0 packageName: com.mediatek.voicecommand\n",
      "\n",
      "*******\n",
      "07-15 14:24:28.970 10184  9250 28745 D AudioRecord: start(94): return status 0\n",
      "\n",
      "07-15 14:24:29.682 10184  9250 28745 D AudioRecord: stop(94): 0xb400007443c8f300, mActive: 1  packageName: com.miui.voiceassist\n",
      "\n",
      "07-15 14:24:29.780 10184  9250 28745 D AudioRecord: stop(94) done\n",
      "\n",
      "07-15 14:24:29.797 10184  9250 28745 D AudioRecord: stop(94): 0xb400007443c8f300, mActive: 0  packageName: com.miui.voiceassist\n",
      "\n",
      "07-15 14:24:29.798 10184  9250 28745 D AudioRecord: stop(94): 0xb400007443c8f300, mActive: 0  packageName: com.miui.voiceassist\n",
      "\n",
      "07-15 14:24:43.872  1000  4387  4387 D AudioRecord: start(98): 0xb400007443bcba60, sync event 0 trigger session 0 packageName: com.mediatek.voicecommand\n",
      "\n",
      "07-15 14:24:43.872  1000  4387  4387 D AudioRecord: start(98): 0xb400007443bcba60, sync event 0 trigger session 0 packageName: com.mediatek.voicecommand\n",
      "\n",
      "07-15 14:24:43.898  1000  4387  4387 D AudioRecord: start(98): return status 0\n",
      "\n",
      "07-15 14:27:07.311 10260  8079 11168 D AudioRecord: stop(86): 0xb400007443cbd0e0, mActive: 1  packageName: com.miui.screenrecorder\n",
      "\n",
      "07-15 14:27:07.395 10260  8079 11168 D AudioRecord: stop(86) done\n",
      "\n",
      "07-15 14:27:07.398 10260  8079 11168 D AudioRecord: stop(86): 0xb400007443cbd0e0, mActive: 0  packageName: com.miui.screenrecorder\n",
      "\n",
      "07-15 14:27:07.398 10260  8079 11168 D AudioRecord: stop(86): 0xb400007443cbd0e0, mActive: 0  packageName: com.miui.screenrecorder\n"
     ]
    }
   ],
   "source": [
    "import re\n",
    "audio_record = []\n",
    "\n",
    "def check_micphone(file_path):\n",
    "    with open(file_path, encoding='utf-8', errors='ignore') as file:\n",
    "        log_lines = file.readlines()\n",
    "\n",
    "    audio_packageName_record = {}\n",
    "    issues = []\n",
    "    packageName_pattern = re.compile(r'packageName: (\\S+)')\n",
    "    \n",
    "    # 遍历日志\n",
    "    for line in log_lines:\n",
    "        if re.search('AudioRecord: start', line) is not None:\n",
    "            audio_record.append(line)\n",
    "            start_package = packageName_pattern.search(line)\n",
    "            if start_package:\n",
    "                # audio_packageName_record.append(line)\n",
    "                package_name = start_package.group(1)\n",
    "                if package_name not in audio_packageName_record:\n",
    "                    audio_packageName_record[package_name] = []\n",
    "                audio_packageName_record[package_name].append(line)\n",
    "                \n",
    "            \n",
    "        elif re.search('AudioRecord: stop', line) is not None:\n",
    "            audio_record.append(line)\n",
    "            stop_package = packageName_pattern.search(line)\n",
    "            if stop_package:\n",
    "                # audio_packageName_record.append(line)\n",
    "                package_name = stop_package.group(1)\n",
    "                if package_name in audio_packageName_record and audio_packageName_record[package_name]:\n",
    "                    audio_packageName_record[package_name].pop(0)\n",
    "                # else:\n",
    "                #     issues.append(line)\n",
    "        \n",
    "    # 收集所有没有对应stop的start日志\n",
    "    for package_name, starts in audio_packageName_record.items():\n",
    "        for start in starts:\n",
    "            issues.append(start)\n",
    "\n",
    "    return issues\n",
    "\n",
    "def main():\n",
    "    # 日志文件路径\n",
    "    file_path = 'microphone_test.txt'  # 修改为你的日志文件路径\n",
    "    # 检查麦克风问题\n",
    "    mic_issues = check_micphone(file_path)\n",
    "    # 输出结果\n",
    "    if mic_issues:\n",
    "        print(\"麦克风问题：\")\n",
    "        for issue in mic_issues:\n",
    "            print(issue)\n",
    "    else:\n",
    "        print(\"未发现麦克风问题\")\n",
    "\n",
    "    print(\"*******\")\n",
    "    for item in audio_record:\n",
    "            print(item)\n",
    "\n",
    "if __name__ == '__main__':\n",
    "    main()\n"
   ]
  },
  {
   "cell_type": "markdown",
   "metadata": {},
   "source": [
    "### speaker增益导致失败"
   ]
  },
  {
   "cell_type": "code",
   "execution_count": 7,
   "metadata": {},
   "outputs": [
    {
     "name": "stdout",
     "output_type": "stream",
     "text": [
      "未发现 AudioTrack 问题\n"
     ]
    }
   ],
   "source": [
    "import re\n",
    "\n",
    "def check_audiotrack(file_path):\n",
    "    with open(file_path, encoding='utf-8', errors='ignore') as file:\n",
    "        log_lines = file.readlines()\n",
    "\n",
    "    audio_packageName_track = {}\n",
    "    audio_track = []\n",
    "    issues_track = []\n",
    "    packageName_pattern = re.compile(r'packageName: (\\S+)')\n",
    "\n",
    "    for line in log_lines:\n",
    "        if re.search('AudioTrack: start', line) is not None:\n",
    "            audio_track.append(line)\n",
    "            start_package = packageName_pattern.search(line)\n",
    "            if start_package:\n",
    "                package_name = start_package.group(1)\n",
    "                if package_name not in audio_packageName_track:\n",
    "                    audio_packageName_track[package_name] = []\n",
    "                audio_packageName_track[package_name].append(line)\n",
    "        elif re.search('AudioTrack: stop', line) is not None:\n",
    "            audio_track.append(line)\n",
    "            stop_package = packageName_pattern.search(line)\n",
    "            if stop_package:\n",
    "                package_name = stop_package.group(1)\n",
    "                if package_name in audio_packageName_track and audio_packageName_track[package_name]:\n",
    "                    audio_packageName_track[package_name].pop(0)\n",
    "                # else:\n",
    "                #     issues_track.append(line)\n",
    "\n",
    "    # 收集所有没有对应stop的start日志\n",
    "    for package_name, starts in audio_packageName_track.items():\n",
    "        for start in starts:\n",
    "            issues_track.append(start)\n",
    "\n",
    "    return issues_track\n",
    "\n",
    "def main():\n",
    "    # 日志文件路径\n",
    "    file_path = 'audiotrack_test.txt'  # 修改为你的日志文件路径\n",
    "\n",
    "    # 检查 AudioTrack 问题\n",
    "    audiotrack_issues = check_audiotrack(file_path)\n",
    "\n",
    "    # 输出结果\n",
    "    if audiotrack_issues:\n",
    "        print(\"AudioTrack 问题：\")\n",
    "        for issue in audiotrack_issues:\n",
    "            print(issue)\n",
    "    else:\n",
    "        print(\"未发现 AudioTrack 问题\")\n",
    "\n",
    "if __name__ == '__main__':\n",
    "    main()\n"
   ]
  },
  {
   "cell_type": "markdown",
   "metadata": {},
   "source": [
    "### 读取文件夹下符合条件的txt文件"
   ]
  },
  {
   "cell_type": "code",
   "execution_count": 8,
   "metadata": {},
   "outputs": [
    {
     "name": "stdout",
     "output_type": "stream",
     "text": [
      "合并的日志已保存到 D:\\2024-07-07-153720-67921922\\AAAVoicetriggerDump\\combined_logs.txt\n"
     ]
    }
   ],
   "source": [
    "import os\n",
    "import glob\n",
    "\n",
    "# 输入的文件路径，假设已知\n",
    "file_path = \"D:\\\\2024-07-07-153720-67921922\\\\AAAVoicetriggerDump\\\\bugreport-goku-UKQ1.240116.001-2024-07-07-15-32-12.txt\"\n",
    "\n",
    "# 提取上一级目录\n",
    "directory = os.path.dirname(file_path)\n",
    "\n",
    "# 查找目录下所有的 .txt 文件，排除以 bugreport- 开头的文件\n",
    "txt_files = glob.glob(os.path.join(directory, '*.txt'))\n",
    "txt_files = [f for f in txt_files if not os.path.basename(f).startswith('bugreport-')]\n",
    "\n",
    "# 合并所有符合条件的 .txt 文件内容\n",
    "combined_log_lines = []\n",
    "for file in txt_files:\n",
    "    with open(file, 'r', encoding='utf-8', errors='ignore') as log_file:\n",
    "        combined_log_lines.extend(log_file.readlines())\n",
    "\n",
    "# 将合并的内容保存到一个新的文件中\n",
    "combined_file_path = os.path.join(directory, 'combined_logs.txt')\n",
    "with open(combined_file_path, 'w', encoding='utf-8', errors='ignore') as combined_file:\n",
    "    combined_file.writelines(combined_log_lines)\n",
    "\n",
    "print(f\"合并的日志已保存到 {combined_file_path}\")\n"
   ]
  }
 ],
 "metadata": {
  "kernelspec": {
   "display_name": "Python 3",
   "language": "python",
   "name": "python3"
  },
  "language_info": {
   "codemirror_mode": {
    "name": "ipython",
    "version": 3
   },
   "file_extension": ".py",
   "mimetype": "text/x-python",
   "name": "python",
   "nbconvert_exporter": "python",
   "pygments_lexer": "ipython3",
   "version": "3.9.10"
  }
 },
 "nbformat": 4,
 "nbformat_minor": 2
}
